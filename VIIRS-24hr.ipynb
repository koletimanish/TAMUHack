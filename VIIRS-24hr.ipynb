{
 "cells": [
  {
   "cell_type": "code",
   "execution_count": 2,
   "metadata": {
    "collapsed": true,
    "pycharm": {
     "is_executing": false
    }
   },
   "outputs": [],
   "source": [
    "import pandas as pd\n",
    "virs_data = pd.read_csv(\"VNP14IMGTDL_NRT_Australia_NewZealand_24h.csv\")"
   ]
  },
  {
   "cell_type": "code",
   "execution_count": 3,
   "outputs": [
    {
     "data": {
      "text/plain": "   latitude  longitude  bright_ti4  scan  track    acq_date  acq_time  \\\n0 -46.25891  168.21355       329.7  0.39   0.37  2020-01-24       236   \n1 -45.79665  168.69800       348.7  0.39   0.36  2020-01-24       236   \n2 -21.85907  166.04208       348.0  0.47   0.39  2020-01-24       248   \n3 -21.85465  166.04587       350.5  0.47   0.39  2020-01-24       248   \n4 -21.85544  166.04135       353.7  0.47   0.39  2020-01-24       248   \n\n  satellite confidence version  bright_ti5   frp daynight  \n0         N    nominal  1.0NRT       294.4   2.1        D  \n1         N    nominal  1.0NRT       297.6  13.6        D  \n2         N    nominal  1.0NRT       296.7   8.3        D  \n3         N    nominal  1.0NRT       301.9  18.1        D  \n4         N    nominal  1.0NRT       305.3   7.9        D  ",
      "text/html": "<div>\n<style scoped>\n    .dataframe tbody tr th:only-of-type {\n        vertical-align: middle;\n    }\n\n    .dataframe tbody tr th {\n        vertical-align: top;\n    }\n\n    .dataframe thead th {\n        text-align: right;\n    }\n</style>\n<table border=\"1\" class=\"dataframe\">\n  <thead>\n    <tr style=\"text-align: right;\">\n      <th></th>\n      <th>latitude</th>\n      <th>longitude</th>\n      <th>bright_ti4</th>\n      <th>scan</th>\n      <th>track</th>\n      <th>acq_date</th>\n      <th>acq_time</th>\n      <th>satellite</th>\n      <th>confidence</th>\n      <th>version</th>\n      <th>bright_ti5</th>\n      <th>frp</th>\n      <th>daynight</th>\n    </tr>\n  </thead>\n  <tbody>\n    <tr>\n      <td>0</td>\n      <td>-46.25891</td>\n      <td>168.21355</td>\n      <td>329.7</td>\n      <td>0.39</td>\n      <td>0.37</td>\n      <td>2020-01-24</td>\n      <td>236</td>\n      <td>N</td>\n      <td>nominal</td>\n      <td>1.0NRT</td>\n      <td>294.4</td>\n      <td>2.1</td>\n      <td>D</td>\n    </tr>\n    <tr>\n      <td>1</td>\n      <td>-45.79665</td>\n      <td>168.69800</td>\n      <td>348.7</td>\n      <td>0.39</td>\n      <td>0.36</td>\n      <td>2020-01-24</td>\n      <td>236</td>\n      <td>N</td>\n      <td>nominal</td>\n      <td>1.0NRT</td>\n      <td>297.6</td>\n      <td>13.6</td>\n      <td>D</td>\n    </tr>\n    <tr>\n      <td>2</td>\n      <td>-21.85907</td>\n      <td>166.04208</td>\n      <td>348.0</td>\n      <td>0.47</td>\n      <td>0.39</td>\n      <td>2020-01-24</td>\n      <td>248</td>\n      <td>N</td>\n      <td>nominal</td>\n      <td>1.0NRT</td>\n      <td>296.7</td>\n      <td>8.3</td>\n      <td>D</td>\n    </tr>\n    <tr>\n      <td>3</td>\n      <td>-21.85465</td>\n      <td>166.04587</td>\n      <td>350.5</td>\n      <td>0.47</td>\n      <td>0.39</td>\n      <td>2020-01-24</td>\n      <td>248</td>\n      <td>N</td>\n      <td>nominal</td>\n      <td>1.0NRT</td>\n      <td>301.9</td>\n      <td>18.1</td>\n      <td>D</td>\n    </tr>\n    <tr>\n      <td>4</td>\n      <td>-21.85544</td>\n      <td>166.04135</td>\n      <td>353.7</td>\n      <td>0.47</td>\n      <td>0.39</td>\n      <td>2020-01-24</td>\n      <td>248</td>\n      <td>N</td>\n      <td>nominal</td>\n      <td>1.0NRT</td>\n      <td>305.3</td>\n      <td>7.9</td>\n      <td>D</td>\n    </tr>\n  </tbody>\n</table>\n</div>"
     },
     "metadata": {},
     "output_type": "execute_result",
     "execution_count": 3
    }
   ],
   "source": [
    "virs_data.head()"
   ],
   "metadata": {
    "collapsed": false,
    "pycharm": {
     "name": "#%%\n",
     "is_executing": false
    }
   }
  },
  {
   "cell_type": "code",
   "execution_count": 10,
   "outputs": [],
   "source": [
    "high_conf_bool = virs_data[\"confidence\"] == \"high\"\n"
   ],
   "metadata": {
    "collapsed": false,
    "pycharm": {
     "name": "#%%\n",
     "is_executing": false
    }
   }
  },
  {
   "cell_type": "code",
   "execution_count": 11,
   "outputs": [
    {
     "data": {
      "text/plain": "    latitude  longitude  bright_ti4  scan  track    acq_date  acq_time  \\\n22 -37.43718  149.25458       367.0  0.78   0.78  2020-01-24       242   \n33 -37.24765  149.12932       367.0  0.79   0.78  2020-01-24       242   \n42 -36.72024  149.38696       367.0  0.76   0.77  2020-01-24       242   \n45 -36.50018  149.97441       367.0  0.70   0.75  2020-01-24       242   \n47 -36.49306  149.97429       367.0  0.70   0.75  2020-01-24       242   \n\n   satellite confidence version  bright_ti5   frp daynight  \n22         N       high  1.0NRT       291.5  38.5        D  \n33         N       high  1.0NRT       311.4  72.6        D  \n42         N       high  1.0NRT       303.5  68.2        D  \n45         N       high  1.0NRT       296.8  35.1        D  \n47         N       high  1.0NRT       290.6  35.1        D  ",
      "text/html": "<div>\n<style scoped>\n    .dataframe tbody tr th:only-of-type {\n        vertical-align: middle;\n    }\n\n    .dataframe tbody tr th {\n        vertical-align: top;\n    }\n\n    .dataframe thead th {\n        text-align: right;\n    }\n</style>\n<table border=\"1\" class=\"dataframe\">\n  <thead>\n    <tr style=\"text-align: right;\">\n      <th></th>\n      <th>latitude</th>\n      <th>longitude</th>\n      <th>bright_ti4</th>\n      <th>scan</th>\n      <th>track</th>\n      <th>acq_date</th>\n      <th>acq_time</th>\n      <th>satellite</th>\n      <th>confidence</th>\n      <th>version</th>\n      <th>bright_ti5</th>\n      <th>frp</th>\n      <th>daynight</th>\n    </tr>\n  </thead>\n  <tbody>\n    <tr>\n      <td>22</td>\n      <td>-37.43718</td>\n      <td>149.25458</td>\n      <td>367.0</td>\n      <td>0.78</td>\n      <td>0.78</td>\n      <td>2020-01-24</td>\n      <td>242</td>\n      <td>N</td>\n      <td>high</td>\n      <td>1.0NRT</td>\n      <td>291.5</td>\n      <td>38.5</td>\n      <td>D</td>\n    </tr>\n    <tr>\n      <td>33</td>\n      <td>-37.24765</td>\n      <td>149.12932</td>\n      <td>367.0</td>\n      <td>0.79</td>\n      <td>0.78</td>\n      <td>2020-01-24</td>\n      <td>242</td>\n      <td>N</td>\n      <td>high</td>\n      <td>1.0NRT</td>\n      <td>311.4</td>\n      <td>72.6</td>\n      <td>D</td>\n    </tr>\n    <tr>\n      <td>42</td>\n      <td>-36.72024</td>\n      <td>149.38696</td>\n      <td>367.0</td>\n      <td>0.76</td>\n      <td>0.77</td>\n      <td>2020-01-24</td>\n      <td>242</td>\n      <td>N</td>\n      <td>high</td>\n      <td>1.0NRT</td>\n      <td>303.5</td>\n      <td>68.2</td>\n      <td>D</td>\n    </tr>\n    <tr>\n      <td>45</td>\n      <td>-36.50018</td>\n      <td>149.97441</td>\n      <td>367.0</td>\n      <td>0.70</td>\n      <td>0.75</td>\n      <td>2020-01-24</td>\n      <td>242</td>\n      <td>N</td>\n      <td>high</td>\n      <td>1.0NRT</td>\n      <td>296.8</td>\n      <td>35.1</td>\n      <td>D</td>\n    </tr>\n    <tr>\n      <td>47</td>\n      <td>-36.49306</td>\n      <td>149.97429</td>\n      <td>367.0</td>\n      <td>0.70</td>\n      <td>0.75</td>\n      <td>2020-01-24</td>\n      <td>242</td>\n      <td>N</td>\n      <td>high</td>\n      <td>1.0NRT</td>\n      <td>290.6</td>\n      <td>35.1</td>\n      <td>D</td>\n    </tr>\n  </tbody>\n</table>\n</div>"
     },
     "metadata": {},
     "output_type": "execute_result",
     "execution_count": 11
    }
   ],
   "source": [
    "new_data = virs_data[high_conf_bool]"
   ],
   "metadata": {
    "collapsed": false,
    "pycharm": {
     "name": "#%%\n",
     "is_executing": false
    }
   }
  },
  {
   "cell_type": "code",
   "execution_count": 16,
   "outputs": [],
   "source": [
    "latitude = new_data[\"latitude\"]\n",
    "longitude = new_data[\"longitude\"]\n",
    "\n",
    "coordinates = zip(longitude, latitude)\n"
   ],
   "metadata": {
    "collapsed": false,
    "pycharm": {
     "name": "#%%\n",
     "is_executing": false
    }
   }
  }
 ],
 "metadata": {
  "kernelspec": {
   "display_name": "Python 3",
   "language": "python",
   "name": "python3"
  },
  "language_info": {
   "codemirror_mode": {
    "name": "ipython",
    "version": 2
   },
   "file_extension": ".py",
   "mimetype": "text/x-python",
   "name": "python",
   "nbconvert_exporter": "python",
   "pygments_lexer": "ipython2",
   "version": "2.7.6"
  },
  "pycharm": {
   "stem_cell": {
    "cell_type": "raw",
    "source": [],
    "metadata": {
     "collapsed": false
    }
   }
  }
 },
 "nbformat": 4,
 "nbformat_minor": 0
}